{
 "cells": [
  {
   "cell_type": "markdown",
   "id": "3778cfcd-9712-4984-a025-89f653fe8f1d",
   "metadata": {},
   "source": [
    "# H1  Data Science Tools and Ecosystem"
   ]
  },
  {
   "cell_type": "markdown",
   "id": "53f0534d-3472-482c-8e8f-9cede73d25ac",
   "metadata": {},
   "source": [
    "Some of the popular languages that Data Scientists use are:\n",
    "1. Phyton\n",
    "2. SQL\n",
    "3. R\n",
    "\n"
   ]
  },
  {
   "cell_type": "markdown",
   "id": "1c8978b1-4162-4085-8d97-ea92534067c7",
   "metadata": {},
   "source": [
    "In this notebook, Data Science Tools and Ecosystem are summarized.\n"
   ]
  },
  {
   "cell_type": "markdown",
   "id": "429fb9b2-6366-435f-a0de-d55d3e6213f2",
   "metadata": {},
   "source": [
    "**Objectives:**\n",
    "- Demonstrate basic arithmetic expressions\n",
    "- Explain common libraries used in data science\n",
    "- Provide examples of data visualization"
   ]
  },
  {
   "cell_type": "code",
   "execution_count": null,
   "id": "6e22161c-6685-4cbe-8663-a0e7515089e8",
   "metadata": {},
   "outputs": [],
   "source": [
    "Some of the commonly used libraries used by Data Scientists include:\n",
    "1. SciPy\n",
    "2. Pandas\n",
    "3. Numbpy\n"
   ]
  },
  {
   "cell_type": "markdown",
   "id": "f4682c0d-3ef2-4b91-81f1-41b3353fb7eb",
   "metadata": {},
   "source": [
    "| Data Science Tools       |\n",
    "|--------------------------|\n",
    "| Jupyter Notebook         |\n",
    "| RStudio                  |\n",
    "| Apache Zeppelin          |"
   ]
  },
  {
   "cell_type": "markdown",
   "id": "3759b633-705c-4c06-a1a7-8f356f259fe2",
   "metadata": {},
   "source": [
    "### Below are a few examples of evaluating arithmetic expressions in Python."
   ]
  },
  {
   "cell_type": "code",
   "execution_count": 6,
   "id": "fbcf8de0-5adf-4e4a-99f7-22a7c8d4d754",
   "metadata": {},
   "outputs": [
    {
     "data": {
      "text/plain": [
       "17"
      ]
     },
     "execution_count": 6,
     "metadata": {},
     "output_type": "execute_result"
    }
   ],
   "source": [
    "#This a simple arithmetic expression to multiply then add integers:\n",
    "\n",
    "(3*4) + 5"
   ]
  },
  {
   "cell_type": "code",
   "execution_count": 7,
   "id": "fa20848e-7849-4306-94d9-dbd82112d6ab",
   "metadata": {},
   "outputs": [
    {
     "data": {
      "text/plain": [
       "3.3333333333333335"
      ]
     },
     "execution_count": 7,
     "metadata": {},
     "output_type": "execute_result"
    }
   ],
   "source": [
    "# This will convert 200 minutes to hours by diving by 60\n",
    "\n",
    "200 / 60"
   ]
  },
  {
   "cell_type": "markdown",
   "id": "4b41dbcd-7b08-4b0c-bd87-bf5dbc202587",
   "metadata": {},
   "source": [
    "## Author "
   ]
  },
  {
   "cell_type": "markdown",
   "id": "21a278c9-1ba9-46ed-a18e-c9ec3a558328",
   "metadata": {},
   "source": [
    "Atalay Durmaz"
   ]
  },
  {
   "cell_type": "code",
   "execution_count": null,
   "id": "01b5eb2f-0554-4708-bab4-1dc5a06cd473",
   "metadata": {},
   "outputs": [],
   "source": []
  }
 ],
 "metadata": {
  "kernelspec": {
   "display_name": "Python 3 (ipykernel)",
   "language": "python",
   "name": "python3"
  },
  "language_info": {
   "codemirror_mode": {
    "name": "ipython",
    "version": 3
   },
   "file_extension": ".py",
   "mimetype": "text/x-python",
   "name": "python",
   "nbconvert_exporter": "python",
   "pygments_lexer": "ipython3",
   "version": "3.12.7"
  }
 },
 "nbformat": 4,
 "nbformat_minor": 5
}
